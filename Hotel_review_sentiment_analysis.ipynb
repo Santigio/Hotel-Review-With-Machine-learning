{
  "nbformat": 4,
  "nbformat_minor": 0,
  "metadata": {
    "kernelspec": {
      "display_name": "Python 3",
      "language": "python",
      "name": "python3"
    },
    "language_info": {
      "codemirror_mode": {
        "name": "ipython",
        "version": 3
      },
      "file_extension": ".py",
      "mimetype": "text/x-python",
      "name": "python",
      "nbconvert_exporter": "python",
      "pygments_lexer": "ipython3",
      "version": "3.7.3"
    },
    "colab": {
      "name": "Hotel review sentiment analysis.ipynb",
      "provenance": [],
      "collapsed_sections": [],
      "toc_visible": true
    }
  },
  "cells": [
    {
      "cell_type": "markdown",
      "metadata": {
        "id": "MS73j-tSS5Jy"
      },
      "source": [
        "# NLP - Hotel review sentiment analysis in python"
      ]
    },
    {
      "cell_type": "code",
      "metadata": {
        "id": "n6HsGyjJS5J9"
      },
      "source": [
        "#warnings :)\n",
        "import warnings\n",
        "warnings.filterwarnings('ignore')\n",
        "\n",
        "import os\n",
        "dir_Path = '/content/train.csv'\n"
      ],
      "execution_count": null,
      "outputs": []
    },
    {
      "cell_type": "markdown",
      "metadata": {
        "id": "vpNAGHr-bgAw"
      },
      "source": [
        "Data Facts and Import\n"
      ]
    },
    {
      "cell_type": "code",
      "metadata": {
        "id": "3KmBag9QS5KA"
      },
      "source": [
        "import pandas as pd \n",
        "# Local directory\n",
        "Reviewdata = pd.read_csv('train.csv')\n",
        "#Data Credit - https://www.kaggle.com/anu0012/hotel-review/data\n",
        "# pd.set_option('display.max_colwidth', None)"
      ],
      "execution_count": null,
      "outputs": []
    },
    {
      "cell_type": "code",
      "metadata": {
        "colab": {
          "base_uri": "https://localhost:8080/"
        },
        "id": "STXWo9LnS5KB",
        "outputId": "1197b6ee-0b23-4ac3-d125-3f8a9e58e017"
      },
      "source": [
        "# how big is our dataset\n",
        "Reviewdata.shape"
      ],
      "execution_count": null,
      "outputs": [
        {
          "output_type": "execute_result",
          "data": {
            "text/plain": [
              "(38932, 5)"
            ]
          },
          "metadata": {
            "tags": []
          },
          "execution_count": 52
        }
      ]
    },
    {
      "cell_type": "code",
      "metadata": {
        "colab": {
          "base_uri": "https://localhost:8080/"
        },
        "id": "Dl7G9zkseb0d",
        "outputId": "e658672c-1ab8-4d94-df63-64ac6375cf17"
      },
      "source": [
        "# what portion of our response is actually happy\n",
        "Reviewdata['Is_Response'].value_counts()"
      ],
      "execution_count": null,
      "outputs": [
        {
          "output_type": "execute_result",
          "data": {
            "text/plain": [
              "happy        26521\n",
              "not happy    12411\n",
              "Name: Is_Response, dtype: int64"
            ]
          },
          "metadata": {
            "tags": []
          },
          "execution_count": 53
        }
      ]
    },
    {
      "cell_type": "code",
      "metadata": {
        "colab": {
          "base_uri": "https://localhost:8080/",
          "height": 1000
        },
        "id": "hmXSRxwPS5KD",
        "outputId": "3352fff6-1b74-42b9-dbd9-5ca83b640d14"
      },
      "source": [
        "Reviewdata.head()"
      ],
      "execution_count": null,
      "outputs": [
        {
          "output_type": "execute_result",
          "data": {
            "text/html": [
              "<div>\n",
              "<style scoped>\n",
              "    .dataframe tbody tr th:only-of-type {\n",
              "        vertical-align: middle;\n",
              "    }\n",
              "\n",
              "    .dataframe tbody tr th {\n",
              "        vertical-align: top;\n",
              "    }\n",
              "\n",
              "    .dataframe thead th {\n",
              "        text-align: right;\n",
              "    }\n",
              "</style>\n",
              "<table border=\"1\" class=\"dataframe\">\n",
              "  <thead>\n",
              "    <tr style=\"text-align: right;\">\n",
              "      <th></th>\n",
              "      <th>User_ID</th>\n",
              "      <th>Description</th>\n",
              "      <th>Browser_Used</th>\n",
              "      <th>Device_Used</th>\n",
              "      <th>Is_Response</th>\n",
              "    </tr>\n",
              "  </thead>\n",
              "  <tbody>\n",
              "    <tr>\n",
              "      <th>0</th>\n",
              "      <td>id10326</td>\n",
              "      <td>The room was kind of clean but had a VERY strong smell of dogs. Generally below average but ok for a overnight stay if you're not too fussy. Would consider staying again if the price was right. Breakfast was free and just about better than nothing.</td>\n",
              "      <td>Edge</td>\n",
              "      <td>Mobile</td>\n",
              "      <td>not happy</td>\n",
              "    </tr>\n",
              "    <tr>\n",
              "      <th>1</th>\n",
              "      <td>id10327</td>\n",
              "      <td>I stayed at the Crown Plaza April -- - April --, ----. The staff was friendly and attentive. The elevators are tiny (about -' by -'). The food in the restaurant was delicious but priced a little on the high side. Of course this is Washington DC. There is no pool and little for children to do. My room on the fifth floor had two comfortable beds and plenty of space for one person. The TV is a little small by todays standards with a limited number of channels. There was a small bit of mold in the bathtub area that could have been removed with a little bleach. It appeared the carpets were not vacummed every day. I reported a light bulb was burned out. It was never replaced. Ice machines are on the odd numbered floors, but the one on my floor did not work. I encountered some staff in the elevator one evening and I mentioned the ice machine to them. Severel hours later a maid appeared at my door with ice and two mints. I'm not sure how they knew what room I was in. That was a little unnerving! I would stay here again for business, but would not come here on vacation.</td>\n",
              "      <td>Internet Explorer</td>\n",
              "      <td>Mobile</td>\n",
              "      <td>not happy</td>\n",
              "    </tr>\n",
              "    <tr>\n",
              "      <th>2</th>\n",
              "      <td>id10328</td>\n",
              "      <td>I booked this hotel through Hotwire at the lowest price I could find. When we got there the front desk manager gave us a \"\"\"\"\"\"\"\"\"\"\"\"\"\"\"\"\"\"\"\"\"\"\"\"\"\"\"\"\"\"\"\"smoking\"\"\"\"\"\"\"\"\"\"\"\"\"\"\"\"\"\"\"\"\"\"\"\"\"\"\"\"\"\"\"\" room. I argued that I have a little baby and I would not have booked the room had I known it was smoking. The manager would not hear anything further and told me that Hotwire books the cheapest rooms that are available. So, from the get go I was very unhappy.\\nAfter a great deal of persuasion and discussion, I got a nonsmoking room. Thereafter the room had the most minimal amenities. Besides the great location (near Dupont Circle), there was not much to say about this overpriced hotel. The room was small and in OK condition. The bathroom was small with a tub. The bathroom amenities were also minimal. We did not have a fridge or a microwave and had to again rent a fridge from the staff (to keep baby things).\\nThe parking costs $-- per day so it is best not to drive here. Also the breakfast is not included. The lobby is very small and feels old. The only thing available is coffee in the lobby which is decent.\\nAll in all, poor service, minimal amenities, small rooms, small bathrooms, no view, but great location. Some distance from the metro (either McPherson station or Dupont station). Try to look for better if available.</td>\n",
              "      <td>Mozilla</td>\n",
              "      <td>Tablet</td>\n",
              "      <td>not happy</td>\n",
              "    </tr>\n",
              "    <tr>\n",
              "      <th>3</th>\n",
              "      <td>id10329</td>\n",
              "      <td>Stayed here with husband and sons on the way to an Alaska Cruise. We all loved the hotel, great experience. Ask for a room on the North tower, facing north west for the best views. We had a high floor, with a stunning view of the needle, the city, and even the cruise ships! We ordered room service for dinner so we could enjoy the perfect views. Room service dinners were delicious, too! You are in a perfect spot to walk everywhere, so enjoy the city. Almost forgot- Heavenly beds were heavenly, too!</td>\n",
              "      <td>InternetExplorer</td>\n",
              "      <td>Desktop</td>\n",
              "      <td>happy</td>\n",
              "    </tr>\n",
              "    <tr>\n",
              "      <th>4</th>\n",
              "      <td>id10330</td>\n",
              "      <td>My girlfriends and I stayed here to celebrate our --th birthdays. We had planned this weekend getaway back in February, so we were all looking forward to it. There was - of us so we rented - ajoining rooms at the rate of $----night-room. We stayed - nights so with taxes and parking charges we spent in total over $----. All of us expected a certain level of service since we were staying at the Ritz, however this hotel certainly didn't meet what we would consider Ritz standards.\\nThe rooms were fine. They were clean with well appointed bathrooms, but nothing to get excited about. The service however was awful. The first night we were there, I made -- calls to the bell man, before someone in hotel communications picked up the phone. Then on Saturday night before we left for dinner at -:--, we requested to have extra hotels delivered to our room and our trash removed. When we returned at --:--, neither request was fullfilled. I made another call to housekeeping and then finally things were taken care of. In my opinion, for the rates we were paying, we should have had nightly turn down service.\\nI did speak with a manager when we checked out and he said he would make it worth our while to return, however all we received was a letter of apology.\\nNeedless to say, we have no plans to return to this hotel. My husband and I stayed at the Four Seasons Boston in February of ---- and had a wonderful stay. The service there was impeccable as is service at all the Four Seaons that I have stayed at. If you are willing to pay Ritz Carlton prices, then I would recommend staying at the Four Seasons instead!</td>\n",
              "      <td>Edge</td>\n",
              "      <td>Tablet</td>\n",
              "      <td>not happy</td>\n",
              "    </tr>\n",
              "  </tbody>\n",
              "</table>\n",
              "</div>"
            ],
            "text/plain": [
              "   User_ID  ... Is_Response\n",
              "0  id10326  ...   not happy\n",
              "1  id10327  ...   not happy\n",
              "2  id10328  ...   not happy\n",
              "3  id10329  ...       happy\n",
              "4  id10330  ...   not happy\n",
              "\n",
              "[5 rows x 5 columns]"
            ]
          },
          "metadata": {
            "tags": []
          },
          "execution_count": 54
        }
      ]
    },
    {
      "cell_type": "code",
      "metadata": {
        "colab": {
          "base_uri": "https://localhost:8080/"
        },
        "id": "4mi1Ej8VS5KD",
        "outputId": "83ef8431-428e-4bc8-ea35-6597ef8e8469"
      },
      "source": [
        "Reviewdata.info()"
      ],
      "execution_count": null,
      "outputs": [
        {
          "output_type": "stream",
          "text": [
            "<class 'pandas.core.frame.DataFrame'>\n",
            "RangeIndex: 38932 entries, 0 to 38931\n",
            "Data columns (total 5 columns):\n",
            " #   Column        Non-Null Count  Dtype \n",
            "---  ------        --------------  ----- \n",
            " 0   User_ID       38932 non-null  object\n",
            " 1   Description   38932 non-null  object\n",
            " 2   Browser_Used  38932 non-null  object\n",
            " 3   Device_Used   38932 non-null  object\n",
            " 4   Is_Response   38932 non-null  object\n",
            "dtypes: object(5)\n",
            "memory usage: 1.5+ MB\n"
          ],
          "name": "stdout"
        }
      ]
    },
    {
      "cell_type": "code",
      "metadata": {
        "colab": {
          "base_uri": "https://localhost:8080/",
          "height": 323
        },
        "id": "M5DRfWzuS5KE",
        "outputId": "742fbfbb-791c-4374-d0a2-1f49a9f39625"
      },
      "source": [
        "Reviewdata.describe().transpose()"
      ],
      "execution_count": null,
      "outputs": [
        {
          "output_type": "execute_result",
          "data": {
            "text/html": [
              "<div>\n",
              "<style scoped>\n",
              "    .dataframe tbody tr th:only-of-type {\n",
              "        vertical-align: middle;\n",
              "    }\n",
              "\n",
              "    .dataframe tbody tr th {\n",
              "        vertical-align: top;\n",
              "    }\n",
              "\n",
              "    .dataframe thead th {\n",
              "        text-align: right;\n",
              "    }\n",
              "</style>\n",
              "<table border=\"1\" class=\"dataframe\">\n",
              "  <thead>\n",
              "    <tr style=\"text-align: right;\">\n",
              "      <th></th>\n",
              "      <th>count</th>\n",
              "      <th>unique</th>\n",
              "      <th>top</th>\n",
              "      <th>freq</th>\n",
              "    </tr>\n",
              "  </thead>\n",
              "  <tbody>\n",
              "    <tr>\n",
              "      <th>User_ID</th>\n",
              "      <td>38932</td>\n",
              "      <td>38932</td>\n",
              "      <td>id48301</td>\n",
              "      <td>1</td>\n",
              "    </tr>\n",
              "    <tr>\n",
              "      <th>Description</th>\n",
              "      <td>38932</td>\n",
              "      <td>38932</td>\n",
              "      <td>We are Select Guest with the Omni, and we stay at Omni's all over the country. This Omni was like a discount Omni. The rooms were big, but they did not offer most of the amenities the other hotels do... nor were they polite when asked. In fact, the woman at the front desk was as rude as she could be, and there were staff sleeping in the lobby when we came in at midnight! We put our drink order on the door for the next morning...and it never came. They called us - hour early for our wake up call. The maid claims we had a Do Not Disturb on our door - and that is why our room was not cleaned one day - yet we NEVER use the Do Not Disturb sign. The hotel is clean and the rooms are large, but that is the only good thing I can say about this Omni. I would not stay there again.</td>\n",
              "      <td>1</td>\n",
              "    </tr>\n",
              "    <tr>\n",
              "      <th>Browser_Used</th>\n",
              "      <td>38932</td>\n",
              "      <td>11</td>\n",
              "      <td>Firefox</td>\n",
              "      <td>7367</td>\n",
              "    </tr>\n",
              "    <tr>\n",
              "      <th>Device_Used</th>\n",
              "      <td>38932</td>\n",
              "      <td>3</td>\n",
              "      <td>Desktop</td>\n",
              "      <td>15026</td>\n",
              "    </tr>\n",
              "    <tr>\n",
              "      <th>Is_Response</th>\n",
              "      <td>38932</td>\n",
              "      <td>2</td>\n",
              "      <td>happy</td>\n",
              "      <td>26521</td>\n",
              "    </tr>\n",
              "  </tbody>\n",
              "</table>\n",
              "</div>"
            ],
            "text/plain": [
              "              count  ...   freq\n",
              "User_ID       38932  ...      1\n",
              "Description   38932  ...      1\n",
              "Browser_Used  38932  ...   7367\n",
              "Device_Used   38932  ...  15026\n",
              "Is_Response   38932  ...  26521\n",
              "\n",
              "[5 rows x 4 columns]"
            ]
          },
          "metadata": {
            "tags": []
          },
          "execution_count": 56
        }
      ]
    },
    {
      "cell_type": "markdown",
      "metadata": {
        "id": "1mg5MOJNS5KE"
      },
      "source": [
        "## Data Cleaning / Exploratory Data Analysis"
      ]
    },
    {
      "cell_type": "code",
      "metadata": {
        "colab": {
          "base_uri": "https://localhost:8080/",
          "height": 221
        },
        "id": "AJ1fsAMRS5KF",
        "outputId": "9ed9db63-035a-4cc5-e4b0-d9081128b587"
      },
      "source": [
        "### Checking Missing values in the Data Set and printing the Percentage for Missing Values for Each Columns ###\n",
        "\n",
        "count = Reviewdata.isnull().sum().sort_values(ascending=False)\n",
        "percentage = ((Reviewdata.isnull().sum()/len(Reviewdata)*100)).sort_values(ascending=False)\n",
        "missing_data = pd.concat([count, percentage], axis=1,\n",
        "keys=['Count','Percentage'])\n",
        "\n",
        "print('Count and percentage of missing values for the columns:')\n",
        "\n",
        "missing_data"
      ],
      "execution_count": null,
      "outputs": [
        {
          "output_type": "stream",
          "text": [
            "Count and percentage of missing values for the columns:\n"
          ],
          "name": "stdout"
        },
        {
          "output_type": "execute_result",
          "data": {
            "text/html": [
              "<div>\n",
              "<style scoped>\n",
              "    .dataframe tbody tr th:only-of-type {\n",
              "        vertical-align: middle;\n",
              "    }\n",
              "\n",
              "    .dataframe tbody tr th {\n",
              "        vertical-align: top;\n",
              "    }\n",
              "\n",
              "    .dataframe thead th {\n",
              "        text-align: right;\n",
              "    }\n",
              "</style>\n",
              "<table border=\"1\" class=\"dataframe\">\n",
              "  <thead>\n",
              "    <tr style=\"text-align: right;\">\n",
              "      <th></th>\n",
              "      <th>Count</th>\n",
              "      <th>Percentage</th>\n",
              "    </tr>\n",
              "  </thead>\n",
              "  <tbody>\n",
              "    <tr>\n",
              "      <th>Is_Response</th>\n",
              "      <td>0</td>\n",
              "      <td>0.0</td>\n",
              "    </tr>\n",
              "    <tr>\n",
              "      <th>Device_Used</th>\n",
              "      <td>0</td>\n",
              "      <td>0.0</td>\n",
              "    </tr>\n",
              "    <tr>\n",
              "      <th>Browser_Used</th>\n",
              "      <td>0</td>\n",
              "      <td>0.0</td>\n",
              "    </tr>\n",
              "    <tr>\n",
              "      <th>Description</th>\n",
              "      <td>0</td>\n",
              "      <td>0.0</td>\n",
              "    </tr>\n",
              "    <tr>\n",
              "      <th>User_ID</th>\n",
              "      <td>0</td>\n",
              "      <td>0.0</td>\n",
              "    </tr>\n",
              "  </tbody>\n",
              "</table>\n",
              "</div>"
            ],
            "text/plain": [
              "              Count  Percentage\n",
              "Is_Response       0         0.0\n",
              "Device_Used       0         0.0\n",
              "Browser_Used      0         0.0\n",
              "Description       0         0.0\n",
              "User_ID           0         0.0"
            ]
          },
          "metadata": {
            "tags": []
          },
          "execution_count": 57
        }
      ]
    },
    {
      "cell_type": "code",
      "metadata": {
        "colab": {
          "base_uri": "https://localhost:8080/",
          "height": 407
        },
        "id": "6_eyuj-0S5KG",
        "outputId": "c1498262-76c6-44bb-d0c7-6df139aef5fa"
      },
      "source": [
        "### Checking for the Distribution of Default ###\n",
        "import matplotlib.pyplot as plt\n",
        "%matplotlib inline\n",
        "print('Percentage for default\\n')\n",
        "print(round(Reviewdata.Is_Response.value_counts(normalize=True)*100,2))\n",
        "round(Reviewdata.Is_Response.value_counts(normalize=True)*100,2).plot(kind='bar')\n",
        "plt.title('Percentage Distributions by review type')\n",
        "plt.show()"
      ],
      "execution_count": null,
      "outputs": [
        {
          "output_type": "stream",
          "text": [
            "Percentage for default\n",
            "\n",
            "happy        68.12\n",
            "not happy    31.88\n",
            "Name: Is_Response, dtype: float64\n"
          ],
          "name": "stdout"
        },
        {
          "output_type": "display_data",
          "data": {
            "image/png": "[encoded data removed]",
            "text/plain": [
              "<Figure size 432x288 with 1 Axes>"
            ]
          },
          "metadata": {
            "tags": [],
            "needs_background": "light"
          }
        }
      ]
    },
    {
      "cell_type": "code",
      "metadata": {
        "id": "wILaeoG0S5KG"
      },
      "source": [
        "#Removing columns\n",
        "Reviewdata.drop(columns = ['User_ID', 'Browser_Used', 'Device_Used'], inplace = True)"
      ],
      "execution_count": null,
      "outputs": []
    },
    {
      "cell_type": "code",
      "metadata": {
        "id": "Frr9Bz_cS5KH"
      },
      "source": [
        "# Apply first level cleaning\n",
        "import re\n",
        "import string\n",
        "\n",
        "#This function converts to lower-case, removes square bracket, removes numbers and punctuation\n",
        "def text_clean_1(text):\n",
        "    text = text.lower()\n",
        "    text = re.sub('\\[.*?\\]', '', text)\n",
        "    text = re.sub('[%s]' % re.escape(string.punctuation), '', text)\n",
        "    text = re.sub('\\w*\\d\\w*', '', text)\n",
        "    return text\n",
        "\n",
        "cleaned1 = lambda x: text_clean_1(x)"
      ],
      "execution_count": null,
      "outputs": []
    },
    {
      "cell_type": "code",
      "metadata": {
        "colab": {
          "base_uri": "https://localhost:8080/",
          "height": 1000
        },
        "id": "6ulOkZQPS5KH",
        "outputId": "c195101f-1bec-40a4-ce11-be6015e794e2"
      },
      "source": [
        "# Let's take a look at the updated text\n",
        "Reviewdata['cleaned_description'] = pd.DataFrame(Reviewdata.Description.apply(cleaned1))\n",
        "Reviewdata.head(10)"
      ],
      "execution_count": null,
      "outputs": [
        {
          "output_type": "execute_result",
          "data": {
            "text/html": [
              "<div>\n",
              "<style scoped>\n",
              "    .dataframe tbody tr th:only-of-type {\n",
              "        vertical-align: middle;\n",
              "    }\n",
              "\n",
              "    .dataframe tbody tr th {\n",
              "        vertical-align: top;\n",
              "    }\n",
              "\n",
              "    .dataframe thead th {\n",
              "        text-align: right;\n",
              "    }\n",
              "</style>\n",
              "<table border=\"1\" class=\"dataframe\">\n",
              "  <thead>\n",
              "    <tr style=\"text-align: right;\">\n",
              "      <th></th>\n",
              "      <th>Description</th>\n",
              "      <th>Is_Response</th>\n",
              "      <th>cleaned_description</th>\n",
              "    </tr>\n",
              "  </thead>\n",
              "  <tbody>\n",
              "    <tr>\n",
              "      <th>0</th>\n",
              "      <td>The room was kind of clean but had a VERY strong smell of dogs. Generally below average but ok for a overnight stay if you're not too fussy. Would consider staying again if the price was right. Breakfast was free and just about better than nothing.</td>\n",
              "      <td>not happy</td>\n",
              "      <td>the room was kind of clean but had a very strong smell of dogs generally below average but ok for a overnight stay if youre not too fussy would consider staying again if the price was right breakfast was free and just about better than nothing</td>\n",
              "    </tr>\n",
              "    <tr>\n",
              "      <th>1</th>\n",
              "      <td>I stayed at the Crown Plaza April -- - April --, ----. The staff was friendly and attentive. The elevators are tiny (about -' by -'). The food in the restaurant was delicious but priced a little on the high side. Of course this is Washington DC. There is no pool and little for children to do. My room on the fifth floor had two comfortable beds and plenty of space for one person. The TV is a little small by todays standards with a limited number of channels. There was a small bit of mold in the bathtub area that could have been removed with a little bleach. It appeared the carpets were not vacummed every day. I reported a light bulb was burned out. It was never replaced. Ice machines are on the odd numbered floors, but the one on my floor did not work. I encountered some staff in the elevator one evening and I mentioned the ice machine to them. Severel hours later a maid appeared at my door with ice and two mints. I'm not sure how they knew what room I was in. That was a little unnerving! I would stay here again for business, but would not come here on vacation.</td>\n",
              "      <td>not happy</td>\n",
              "      <td>i stayed at the crown plaza april   april   the staff was friendly and attentive the elevators are tiny about  by  the food in the restaurant was delicious but priced a little on the high side of course this is washington dc there is no pool and little for children to do my room on the fifth floor had two comfortable beds and plenty of space for one person the tv is a little small by todays standards with a limited number of channels there was a small bit of mold in the bathtub area that could have been removed with a little bleach it appeared the carpets were not vacummed every day i reported a light bulb was burned out it was never replaced ice machines are on the odd numbered floors but the one on my floor did not work i encountered some staff in the elevator one evening and i mentioned the ice machine to them severel hours later a maid appeared at my door with ice and two mints im not sure how they knew what room i was in that was a little unnerving i would stay here again for business but would not come here on vacation</td>\n",
              "    </tr>\n",
              "    <tr>\n",
              "      <th>2</th>\n",
              "      <td>I booked this hotel through Hotwire at the lowest price I could find. When we got there the front desk manager gave us a \"\"\"\"\"\"\"\"\"\"\"\"\"\"\"\"\"\"\"\"\"\"\"\"\"\"\"\"\"\"\"\"smoking\"\"\"\"\"\"\"\"\"\"\"\"\"\"\"\"\"\"\"\"\"\"\"\"\"\"\"\"\"\"\"\" room. I argued that I have a little baby and I would not have booked the room had I known it was smoking. The manager would not hear anything further and told me that Hotwire books the cheapest rooms that are available. So, from the get go I was very unhappy.\\nAfter a great deal of persuasion and discussion, I got a nonsmoking room. Thereafter the room had the most minimal amenities. Besides the great location (near Dupont Circle), there was not much to say about this overpriced hotel. The room was small and in OK condition. The bathroom was small with a tub. The bathroom amenities were also minimal. We did not have a fridge or a microwave and had to again rent a fridge from the staff (to keep baby things).\\nThe parking costs $-- per day so it is best not to drive here. Also the breakfast is not included. The lobby is very small and feels old. The only thing available is coffee in the lobby which is decent.\\nAll in all, poor service, minimal amenities, small rooms, small bathrooms, no view, but great location. Some distance from the metro (either McPherson station or Dupont station). Try to look for better if available.</td>\n",
              "      <td>not happy</td>\n",
              "      <td>i booked this hotel through hotwire at the lowest price i could find when we got there the front desk manager gave us a smoking room i argued that i have a little baby and i would not have booked the room had i known it was smoking the manager would not hear anything further and told me that hotwire books the cheapest rooms that are available so from the get go i was very unhappy\\nafter a great deal of persuasion and discussion i got a nonsmoking room thereafter the room had the most minimal amenities besides the great location near dupont circle there was not much to say about this overpriced hotel the room was small and in ok condition the bathroom was small with a tub the bathroom amenities were also minimal we did not have a fridge or a microwave and had to again rent a fridge from the staff to keep baby things\\nthe parking costs  per day so it is best not to drive here also the breakfast is not included the lobby is very small and feels old the only thing available is coffee in the lobby which is decent\\nall in all poor service minimal amenities small rooms small bathrooms no view but great location some distance from the metro either mcpherson station or dupont station try to look for better if available</td>\n",
              "    </tr>\n",
              "    <tr>\n",
              "      <th>3</th>\n",
              "      <td>Stayed here with husband and sons on the way to an Alaska Cruise. We all loved the hotel, great experience. Ask for a room on the North tower, facing north west for the best views. We had a high floor, with a stunning view of the needle, the city, and even the cruise ships! We ordered room service for dinner so we could enjoy the perfect views. Room service dinners were delicious, too! You are in a perfect spot to walk everywhere, so enjoy the city. Almost forgot- Heavenly beds were heavenly, too!</td>\n",
              "      <td>happy</td>\n",
              "      <td>stayed here with husband and sons on the way to an alaska cruise we all loved the hotel great experience ask for a room on the north tower facing north west for the best views we had a high floor with a stunning view of the needle the city and even the cruise ships we ordered room service for dinner so we could enjoy the perfect views room service dinners were delicious too you are in a perfect spot to walk everywhere so enjoy the city almost forgot heavenly beds were heavenly too</td>\n",
              "    </tr>\n",
              "    <tr>\n",
              "      <th>4</th>\n",
              "      <td>My girlfriends and I stayed here to celebrate our --th birthdays. We had planned this weekend getaway back in February, so we were all looking forward to it. There was - of us so we rented - ajoining rooms at the rate of $----night-room. We stayed - nights so with taxes and parking charges we spent in total over $----. All of us expected a certain level of service since we were staying at the Ritz, however this hotel certainly didn't meet what we would consider Ritz standards.\\nThe rooms were fine. They were clean with well appointed bathrooms, but nothing to get excited about. The service however was awful. The first night we were there, I made -- calls to the bell man, before someone in hotel communications picked up the phone. Then on Saturday night before we left for dinner at -:--, we requested to have extra hotels delivered to our room and our trash removed. When we returned at --:--, neither request was fullfilled. I made another call to housekeeping and then finally things were taken care of. In my opinion, for the rates we were paying, we should have had nightly turn down service.\\nI did speak with a manager when we checked out and he said he would make it worth our while to return, however all we received was a letter of apology.\\nNeedless to say, we have no plans to return to this hotel. My husband and I stayed at the Four Seasons Boston in February of ---- and had a wonderful stay. The service there was impeccable as is service at all the Four Seaons that I have stayed at. If you are willing to pay Ritz Carlton prices, then I would recommend staying at the Four Seasons instead!</td>\n",
              "      <td>not happy</td>\n",
              "      <td>my girlfriends and i stayed here to celebrate our th birthdays we had planned this weekend getaway back in february so we were all looking forward to it there was  of us so we rented  ajoining rooms at the rate of nightroom we stayed  nights so with taxes and parking charges we spent in total over  all of us expected a certain level of service since we were staying at the ritz however this hotel certainly didnt meet what we would consider ritz standards\\nthe rooms were fine they were clean with well appointed bathrooms but nothing to get excited about the service however was awful the first night we were there i made  calls to the bell man before someone in hotel communications picked up the phone then on saturday night before we left for dinner at  we requested to have extra hotels delivered to our room and our trash removed when we returned at  neither request was fullfilled i made another call to housekeeping and then finally things were taken care of in my opinion for the rates we were paying we should have had nightly turn down service\\ni did speak with a manager when we checked out and he said he would make it worth our while to return however all we received was a letter of apology\\nneedless to say we have no plans to return to this hotel my husband and i stayed at the four seasons boston in february of  and had a wonderful stay the service there was impeccable as is service at all the four seaons that i have stayed at if you are willing to pay ritz carlton prices then i would recommend staying at the four seasons instead</td>\n",
              "    </tr>\n",
              "    <tr>\n",
              "      <th>5</th>\n",
              "      <td>We had - rooms. One was very nice and clearly had been updated more recently than the other. The other was clean and the bed was comfy but it needed some updating (carpet was old and wrinkled for example). Great location for visiting Inner Harbor, getting to Fells Point, Orioles games etc. SuperShuttle from BWI worked great both ways. TV remotes in both rooms were terrible but we didn't watch much TV so not a big deal. Wireless was sketchy on --th and --th floors but again, didn't need it much - we were on vacation so it didn't really matter. Breakfast was good each morning. Would stay again if in town.</td>\n",
              "      <td>happy</td>\n",
              "      <td>we had  rooms one was very nice and clearly had been updated more recently than the other the other was clean and the bed was comfy but it needed some updating carpet was old and wrinkled for example great location for visiting inner harbor getting to fells point orioles games etc supershuttle from bwi worked great both ways tv remotes in both rooms were terrible but we didnt watch much tv so not a big deal wireless was sketchy on th and th floors but again didnt need it much  we were on vacation so it didnt really matter breakfast was good each morning would stay again if in town</td>\n",
              "    </tr>\n",
              "    <tr>\n",
              "      <th>6</th>\n",
              "      <td>My husband and I have stayed in this hotel a few times. Though not the fanciest hotel, we love the fact that we can walk the - or so miles to Fenway. It is clean and the staff is very accomodating. My only complaint is that the fan in the bathroom was noisy and went on automatically when you turned the light on and we tried to keep the light off as much as possible. We've stayed in pricier hotels which charged for internet and breakfast and these are both included. Will stay there again.</td>\n",
              "      <td>not happy</td>\n",
              "      <td>my husband and i have stayed in this hotel a few times though not the fanciest hotel we love the fact that we can walk the  or so miles to fenway it is clean and the staff is very accomodating my only complaint is that the fan in the bathroom was noisy and went on automatically when you turned the light on and we tried to keep the light off as much as possible weve stayed in pricier hotels which charged for internet and breakfast and these are both included will stay there again</td>\n",
              "    </tr>\n",
              "    <tr>\n",
              "      <th>7</th>\n",
              "      <td>My wife &amp; I stayed in this glorious city a while back. SF is expensive, but we found this little hotel in a super location for a very reasonable price. By no means is it a --star hotel, but the room was clean, nice &amp; well-appointed with quaint charm, despite being a bit small. Regardless of that, the staff was very helpful. I particularly enjoyed the wine-tasting evenings &amp; the helpful, polite front desk.\\nOverall, I'd recommend this place for singles or couples, but for children present, you probably need a bit bigger room. For the location &amp; proximity to everything (including a marvelous little Mexican restaurant around the corner), you can't beat this place for the price. SF is a magical city with plenty of things to do, so I'd recommend just crashing here &amp; seeing the wonderful surroundings more than hanging out in a room all day.\\nWould recommend again for a getaway for -, but not for families because of the room size.</td>\n",
              "      <td>happy</td>\n",
              "      <td>my wife  i stayed in this glorious city a while back sf is expensive but we found this little hotel in a super location for a very reasonable price by no means is it a star hotel but the room was clean nice  wellappointed with quaint charm despite being a bit small regardless of that the staff was very helpful i particularly enjoyed the winetasting evenings  the helpful polite front desk\\noverall id recommend this place for singles or couples but for children present you probably need a bit bigger room for the location  proximity to everything including a marvelous little mexican restaurant around the corner you cant beat this place for the price sf is a magical city with plenty of things to do so id recommend just crashing here  seeing the wonderful surroundings more than hanging out in a room all day\\nwould recommend again for a getaway for  but not for families because of the room size</td>\n",
              "    </tr>\n",
              "    <tr>\n",
              "      <th>8</th>\n",
              "      <td>My boyfriend and I stayed at the Fairmont on a recent trip to San Francisco. I could not recommend this hotel more. \\nI called the hotel a few weeks before to order a cake to be delivered to our room on our first night to celebrate my boyfriend's birthday. I was immediately connected directly to the pastry chef who helped me to design the most delicious cake I have ever eaten in my entire life! \\nThe rooms are large and luxurious with a wonderful old-world feel. \\n Most importantly don't miss a dinner at the Tonga Room! What a fun restaurant. Definitely order a Scorpion Bowl, but only if you’re staying in the hotel -- they're strong!!</td>\n",
              "      <td>happy</td>\n",
              "      <td>my boyfriend and i stayed at the fairmont on a recent trip to san francisco i could not recommend this hotel more \\ni called the hotel a few weeks before to order a cake to be delivered to our room on our first night to celebrate my boyfriends birthday i was immediately connected directly to the pastry chef who helped me to design the most delicious cake i have ever eaten in my entire life \\nthe rooms are large and luxurious with a wonderful oldworld feel \\n most importantly dont miss a dinner at the tonga room what a fun restaurant definitely order a scorpion bowl but only if you’re staying in the hotel  theyre strong</td>\n",
              "    </tr>\n",
              "    <tr>\n",
              "      <th>9</th>\n",
              "      <td>Wonderful staff, great location, but it was definately the price was high for a standard hotel. The free breakfast was great, actually pretty good quailty for a free buffet. This hotel is in the heart of it all, walking distance to everything. - things, please Hyatt...the coffee was bad and the white ginger line of shampoo-conditioner-soap smells horrible!</td>\n",
              "      <td>not happy</td>\n",
              "      <td>wonderful staff great location but it was definately the price was high for a standard hotel the free breakfast was great actually pretty good quailty for a free buffet this hotel is in the heart of it all walking distance to everything  things please hyattthe coffee was bad and the white ginger line of shampooconditionersoap smells horrible</td>\n",
              "    </tr>\n",
              "  </tbody>\n",
              "</table>\n",
              "</div>"
            ],
            "text/plain": [
              "                                                                                                                                                                                                                                                                                                                                                                                                                                                                                                                                                                                                                                                                                                                                                                                                                                                                                                                                                                                                                                                                                                                                                                                                                                                                                                                                                                                                                                                                                                                                                                                                                                                                        Description  ...                                                                                                                                                                                                                                                                                                                                                                                                                                                                                                                                                                                                                                                                                                                                                                                                                                                                                                                                                                                                                                                                                                                                                                                                                                                                                                                                                                                                                                                                                                                                                                                                 cleaned_description\n",
              "0                                                                                                                                                                                                                                                                                                                                                                                                                                                                                                                                                                                                                                                                                                                                                                                                                                                                                                                                                                                                                                                                                                                                                                                                                                                                                                                                                                                                                          The room was kind of clean but had a VERY strong smell of dogs. Generally below average but ok for a overnight stay if you're not too fussy. Would consider staying again if the price was right. Breakfast was free and just about better than nothing.  ...                                                                                                                                                                                                                                                                                                                                                                                                                                                                                                                                                                                                                                                                                                                                                                                                                                                                                                                                                                                                                                                                                                                                                                                                                                                                                                                                                                 the room was kind of clean but had a very strong smell of dogs generally below average but ok for a overnight stay if youre not too fussy would consider staying again if the price was right breakfast was free and just about better than nothing\n",
              "1                                                                                                                                                                                                                                                                                                                                                                                                                                                                                                                                                             I stayed at the Crown Plaza April -- - April --, ----. The staff was friendly and attentive. The elevators are tiny (about -' by -'). The food in the restaurant was delicious but priced a little on the high side. Of course this is Washington DC. There is no pool and little for children to do. My room on the fifth floor had two comfortable beds and plenty of space for one person. The TV is a little small by todays standards with a limited number of channels. There was a small bit of mold in the bathtub area that could have been removed with a little bleach. It appeared the carpets were not vacummed every day. I reported a light bulb was burned out. It was never replaced. Ice machines are on the odd numbered floors, but the one on my floor did not work. I encountered some staff in the elevator one evening and I mentioned the ice machine to them. Severel hours later a maid appeared at my door with ice and two mints. I'm not sure how they knew what room I was in. That was a little unnerving! I would stay here again for business, but would not come here on vacation.  ...                                                                                                                                                                                                                                                                                                                                                                                                                                                                                                                                    i stayed at the crown plaza april   april   the staff was friendly and attentive the elevators are tiny about  by  the food in the restaurant was delicious but priced a little on the high side of course this is washington dc there is no pool and little for children to do my room on the fifth floor had two comfortable beds and plenty of space for one person the tv is a little small by todays standards with a limited number of channels there was a small bit of mold in the bathtub area that could have been removed with a little bleach it appeared the carpets were not vacummed every day i reported a light bulb was burned out it was never replaced ice machines are on the odd numbered floors but the one on my floor did not work i encountered some staff in the elevator one evening and i mentioned the ice machine to them severel hours later a maid appeared at my door with ice and two mints im not sure how they knew what room i was in that was a little unnerving i would stay here again for business but would not come here on vacation\n",
              "2                                                                                                                                                                                                                                                                                                I booked this hotel through Hotwire at the lowest price I could find. When we got there the front desk manager gave us a \"\"\"\"\"\"\"\"\"\"\"\"\"\"\"\"\"\"\"\"\"\"\"\"\"\"\"\"\"\"\"\"smoking\"\"\"\"\"\"\"\"\"\"\"\"\"\"\"\"\"\"\"\"\"\"\"\"\"\"\"\"\"\"\"\" room. I argued that I have a little baby and I would not have booked the room had I known it was smoking. The manager would not hear anything further and told me that Hotwire books the cheapest rooms that are available. So, from the get go I was very unhappy.\\nAfter a great deal of persuasion and discussion, I got a nonsmoking room. Thereafter the room had the most minimal amenities. Besides the great location (near Dupont Circle), there was not much to say about this overpriced hotel. The room was small and in OK condition. The bathroom was small with a tub. The bathroom amenities were also minimal. We did not have a fridge or a microwave and had to again rent a fridge from the staff (to keep baby things).\\nThe parking costs $-- per day so it is best not to drive here. Also the breakfast is not included. The lobby is very small and feels old. The only thing available is coffee in the lobby which is decent.\\nAll in all, poor service, minimal amenities, small rooms, small bathrooms, no view, but great location. Some distance from the metro (either McPherson station or Dupont station). Try to look for better if available.  ...                                                                                                                                                                                                                                                                                                                                       i booked this hotel through hotwire at the lowest price i could find when we got there the front desk manager gave us a smoking room i argued that i have a little baby and i would not have booked the room had i known it was smoking the manager would not hear anything further and told me that hotwire books the cheapest rooms that are available so from the get go i was very unhappy\\nafter a great deal of persuasion and discussion i got a nonsmoking room thereafter the room had the most minimal amenities besides the great location near dupont circle there was not much to say about this overpriced hotel the room was small and in ok condition the bathroom was small with a tub the bathroom amenities were also minimal we did not have a fridge or a microwave and had to again rent a fridge from the staff to keep baby things\\nthe parking costs  per day so it is best not to drive here also the breakfast is not included the lobby is very small and feels old the only thing available is coffee in the lobby which is decent\\nall in all poor service minimal amenities small rooms small bathrooms no view but great location some distance from the metro either mcpherson station or dupont station try to look for better if available\n",
              "3                                                                                                                                                                                                                                                                                                                                                                                                                                                                                                                                                                                                                                                                                                                                                                                                                                                                                                                                                                                                                                                                                                                                                            Stayed here with husband and sons on the way to an Alaska Cruise. We all loved the hotel, great experience. Ask for a room on the North tower, facing north west for the best views. We had a high floor, with a stunning view of the needle, the city, and even the cruise ships! We ordered room service for dinner so we could enjoy the perfect views. Room service dinners were delicious, too! You are in a perfect spot to walk everywhere, so enjoy the city. Almost forgot- Heavenly beds were heavenly, too!  ...                                                                                                                                                                                                                                                                                                                                                                                                                                                                                                                                                                                                                                                                                                                                                                                                                                                                                                                                                                                                                                                                                                               stayed here with husband and sons on the way to an alaska cruise we all loved the hotel great experience ask for a room on the north tower facing north west for the best views we had a high floor with a stunning view of the needle the city and even the cruise ships we ordered room service for dinner so we could enjoy the perfect views room service dinners were delicious too you are in a perfect spot to walk everywhere so enjoy the city almost forgot heavenly beds were heavenly too\n",
              "4  My girlfriends and I stayed here to celebrate our --th birthdays. We had planned this weekend getaway back in February, so we were all looking forward to it. There was - of us so we rented - ajoining rooms at the rate of $----night-room. We stayed - nights so with taxes and parking charges we spent in total over $----. All of us expected a certain level of service since we were staying at the Ritz, however this hotel certainly didn't meet what we would consider Ritz standards.\\nThe rooms were fine. They were clean with well appointed bathrooms, but nothing to get excited about. The service however was awful. The first night we were there, I made -- calls to the bell man, before someone in hotel communications picked up the phone. Then on Saturday night before we left for dinner at -:--, we requested to have extra hotels delivered to our room and our trash removed. When we returned at --:--, neither request was fullfilled. I made another call to housekeeping and then finally things were taken care of. In my opinion, for the rates we were paying, we should have had nightly turn down service.\\nI did speak with a manager when we checked out and he said he would make it worth our while to return, however all we received was a letter of apology.\\nNeedless to say, we have no plans to return to this hotel. My husband and I stayed at the Four Seasons Boston in February of ---- and had a wonderful stay. The service there was impeccable as is service at all the Four Seaons that I have stayed at. If you are willing to pay Ritz Carlton prices, then I would recommend staying at the Four Seasons instead!  ...  my girlfriends and i stayed here to celebrate our th birthdays we had planned this weekend getaway back in february so we were all looking forward to it there was  of us so we rented  ajoining rooms at the rate of nightroom we stayed  nights so with taxes and parking charges we spent in total over  all of us expected a certain level of service since we were staying at the ritz however this hotel certainly didnt meet what we would consider ritz standards\\nthe rooms were fine they were clean with well appointed bathrooms but nothing to get excited about the service however was awful the first night we were there i made  calls to the bell man before someone in hotel communications picked up the phone then on saturday night before we left for dinner at  we requested to have extra hotels delivered to our room and our trash removed when we returned at  neither request was fullfilled i made another call to housekeeping and then finally things were taken care of in my opinion for the rates we were paying we should have had nightly turn down service\\ni did speak with a manager when we checked out and he said he would make it worth our while to return however all we received was a letter of apology\\nneedless to say we have no plans to return to this hotel my husband and i stayed at the four seasons boston in february of  and had a wonderful stay the service there was impeccable as is service at all the four seaons that i have stayed at if you are willing to pay ritz carlton prices then i would recommend staying at the four seasons instead\n",
              "5                                                                                                                                                                                                                                                                                                                                                                                                                                                                                                                                                                                                                                                                                                                                                                                                                                                                                                                                                                                                                                                We had - rooms. One was very nice and clearly had been updated more recently than the other. The other was clean and the bed was comfy but it needed some updating (carpet was old and wrinkled for example). Great location for visiting Inner Harbor, getting to Fells Point, Orioles games etc. SuperShuttle from BWI worked great both ways. TV remotes in both rooms were terrible but we didn't watch much TV so not a big deal. Wireless was sketchy on --th and --th floors but again, didn't need it much - we were on vacation so it didn't really matter. Breakfast was good each morning. Would stay again if in town.  ...                                                                                                                                                                                                                                                                                                                                                                                                                                                                                                                                                                                                                                                                                                                                                                                                                                                                                                                                                                                                         we had  rooms one was very nice and clearly had been updated more recently than the other the other was clean and the bed was comfy but it needed some updating carpet was old and wrinkled for example great location for visiting inner harbor getting to fells point orioles games etc supershuttle from bwi worked great both ways tv remotes in both rooms were terrible but we didnt watch much tv so not a big deal wireless was sketchy on th and th floors but again didnt need it much  we were on vacation so it didnt really matter breakfast was good each morning would stay again if in town\n",
              "6                                                                                                                                                                                                                                                                                                                                                                                                                                                                                                                                                                                                                                                                                                                                                                                                                                                                                                                                                                                                                                                                                                                                                                      My husband and I have stayed in this hotel a few times. Though not the fanciest hotel, we love the fact that we can walk the - or so miles to Fenway. It is clean and the staff is very accomodating. My only complaint is that the fan in the bathroom was noisy and went on automatically when you turned the light on and we tried to keep the light off as much as possible. We've stayed in pricier hotels which charged for internet and breakfast and these are both included. Will stay there again.  ...                                                                                                                                                                                                                                                                                                                                                                                                                                                                                                                                                                                                                                                                                                                                                                                                                                                                                                                                                                                                                                                                                                                 my husband and i have stayed in this hotel a few times though not the fanciest hotel we love the fact that we can walk the  or so miles to fenway it is clean and the staff is very accomodating my only complaint is that the fan in the bathroom was noisy and went on automatically when you turned the light on and we tried to keep the light off as much as possible weve stayed in pricier hotels which charged for internet and breakfast and these are both included will stay there again\n",
              "7                                                                                                                                                                                                                                                                                                                                                                                                                                                                                                                                                                                                                                                                                                         My wife & I stayed in this glorious city a while back. SF is expensive, but we found this little hotel in a super location for a very reasonable price. By no means is it a --star hotel, but the room was clean, nice & well-appointed with quaint charm, despite being a bit small. Regardless of that, the staff was very helpful. I particularly enjoyed the wine-tasting evenings & the helpful, polite front desk.\\nOverall, I'd recommend this place for singles or couples, but for children present, you probably need a bit bigger room. For the location & proximity to everything (including a marvelous little Mexican restaurant around the corner), you can't beat this place for the price. SF is a magical city with plenty of things to do, so I'd recommend just crashing here & seeing the wonderful surroundings more than hanging out in a room all day.\\nWould recommend again for a getaway for -, but not for families because of the room size.  ...                                                                                                                                                                                                                                                                                                                                                                                                                                                                                                                                                                                                                                                                               my wife  i stayed in this glorious city a while back sf is expensive but we found this little hotel in a super location for a very reasonable price by no means is it a star hotel but the room was clean nice  wellappointed with quaint charm despite being a bit small regardless of that the staff was very helpful i particularly enjoyed the winetasting evenings  the helpful polite front desk\\noverall id recommend this place for singles or couples but for children present you probably need a bit bigger room for the location  proximity to everything including a marvelous little mexican restaurant around the corner you cant beat this place for the price sf is a magical city with plenty of things to do so id recommend just crashing here  seeing the wonderful surroundings more than hanging out in a room all day\\nwould recommend again for a getaway for  but not for families because of the room size\n",
              "8                                                                                                                                                                                                                                                                                                                                                                                                                                                                                                                                                                                                                                                                                                                                                                                                                                                                                                                                                                                                                My boyfriend and I stayed at the Fairmont on a recent trip to San Francisco. I could not recommend this hotel more. \\nI called the hotel a few weeks before to order a cake to be delivered to our room on our first night to celebrate my boyfriend's birthday. I was immediately connected directly to the pastry chef who helped me to design the most delicious cake I have ever eaten in my entire life! \\nThe rooms are large and luxurious with a wonderful old-world feel. \\n Most importantly don't miss a dinner at the Tonga Room! What a fun restaurant. Definitely order a Scorpion Bowl, but only if you’re staying in the hotel -- they're strong!!  ...                                                                                                                                                                                                                                                                                                                                                                                                                                                                                                                                                                                                                                                                                                                                                                                                                                                                                                                                                                  my boyfriend and i stayed at the fairmont on a recent trip to san francisco i could not recommend this hotel more \\ni called the hotel a few weeks before to order a cake to be delivered to our room on our first night to celebrate my boyfriends birthday i was immediately connected directly to the pastry chef who helped me to design the most delicious cake i have ever eaten in my entire life \\nthe rooms are large and luxurious with a wonderful oldworld feel \\n most importantly dont miss a dinner at the tonga room what a fun restaurant definitely order a scorpion bowl but only if you’re staying in the hotel  theyre strong\n",
              "9                                                                                                                                                                                                                                                                                                                                                                                                                                                                                                                                                                                                                                                                                                                                                                                                                                                                                                                                                                                                                                                                                                                                                                                                                                                                                                            Wonderful staff, great location, but it was definately the price was high for a standard hotel. The free breakfast was great, actually pretty good quailty for a free buffet. This hotel is in the heart of it all, walking distance to everything. - things, please Hyatt...the coffee was bad and the white ginger line of shampoo-conditioner-soap smells horrible!  ...                                                                                                                                                                                                                                                                                                                                                                                                                                                                                                                                                                                                                                                                                                                                                                                                                                                                                                                                                                                                                                                                                                                                                                                                                                                             wonderful staff great location but it was definately the price was high for a standard hotel the free breakfast was great actually pretty good quailty for a free buffet this hotel is in the heart of it all walking distance to everything  things please hyattthe coffee was bad and the white ginger line of shampooconditionersoap smells horrible\n",
              "\n",
              "[10 rows x 3 columns]"
            ]
          },
          "metadata": {
            "tags": []
          },
          "execution_count": 61
        }
      ]
    },
    {
      "cell_type": "code",
      "metadata": {
        "id": "2H38I9oKS5KI"
      },
      "source": [
        "# Apply a second round of cleaning\n",
        "def text_clean_2(text):\n",
        "    text = re.sub('[‘’“”…]', '', text)\n",
        "    text = re.sub('\\n', '', text)\n",
        "    return text\n",
        "\n",
        "cleaned2 = lambda x: text_clean_2(x)"
      ],
      "execution_count": null,
      "outputs": []
    },
    {
      "cell_type": "code",
      "metadata": {
        "colab": {
          "base_uri": "https://localhost:8080/",
          "height": 1000
        },
        "id": "dS_o42LsS5KI",
        "outputId": "ee420add-c048-43d1-f79b-8f3af6357cf5"
      },
      "source": [
        "# Let's take a look at the updated text\n",
        "Reviewdata['cleaned_description_new'] = pd.DataFrame(Reviewdata['cleaned_description'].apply(cleaned2))\n",
        "Reviewdata.head(10)"
      ],
      "execution_count": null,
      "outputs": [
        {
          "output_type": "execute_result",
          "data": {
            "text/html": [
              "<div>\n",
              "<style scoped>\n",
              "    .dataframe tbody tr th:only-of-type {\n",
              "        vertical-align: middle;\n",
              "    }\n",
              "\n",
              "    .dataframe tbody tr th {\n",
              "        vertical-align: top;\n",
              "    }\n",
              "\n",
              "    .dataframe thead th {\n",
              "        text-align: right;\n",
              "    }\n",
              "</style>\n",
              "<table border=\"1\" class=\"dataframe\">\n",
              "  <thead>\n",
              "    <tr style=\"text-align: right;\">\n",
              "      <th></th>\n",
              "      <th>Description</th>\n",
              "      <th>Is_Response</th>\n",
              "      <th>cleaned_description</th>\n",
              "      <th>cleaned_description_new</th>\n",
              "    </tr>\n",
              "  </thead>\n",
              "  <tbody>\n",
              "    <tr>\n",
              "      <th>0</th>\n",
              "      <td>The room was kind of clean but had a VERY strong smell of dogs. Generally below average but ok for a overnight stay if you're not too fussy. Would consider staying again if the price was right. Breakfast was free and just about better than nothing.</td>\n",
              "      <td>not happy</td>\n",
              "      <td>the room was kind of clean but had a very strong smell of dogs generally below average but ok for a overnight stay if youre not too fussy would consider staying again if the price was right breakfast was free and just about better than nothing</td>\n",
              "      <td>the room was kind of clean but had a very strong smell of dogs generally below average but ok for a overnight stay if youre not too fussy would consider staying again if the price was right breakfast was free and just about better than nothing</td>\n",
              "    </tr>\n",
              "    <tr>\n",
              "      <th>1</th>\n",
              "      <td>I stayed at the Crown Plaza April -- - April --, ----. The staff was friendly and attentive. The elevators are tiny (about -' by -'). The food in the restaurant was delicious but priced a little on the high side. Of course this is Washington DC. There is no pool and little for children to do. My room on the fifth floor had two comfortable beds and plenty of space for one person. The TV is a little small by todays standards with a limited number of channels. There was a small bit of mold in the bathtub area that could have been removed with a little bleach. It appeared the carpets were not vacummed every day. I reported a light bulb was burned out. It was never replaced. Ice machines are on the odd numbered floors, but the one on my floor did not work. I encountered some staff in the elevator one evening and I mentioned the ice machine to them. Severel hours later a maid appeared at my door with ice and two mints. I'm not sure how they knew what room I was in. That was a little unnerving! I would stay here again for business, but would not come here on vacation.</td>\n",
              "      <td>not happy</td>\n",
              "      <td>i stayed at the crown plaza april   april   the staff was friendly and attentive the elevators are tiny about  by  the food in the restaurant was delicious but priced a little on the high side of course this is washington dc there is no pool and little for children to do my room on the fifth floor had two comfortable beds and plenty of space for one person the tv is a little small by todays standards with a limited number of channels there was a small bit of mold in the bathtub area that could have been removed with a little bleach it appeared the carpets were not vacummed every day i reported a light bulb was burned out it was never replaced ice machines are on the odd numbered floors but the one on my floor did not work i encountered some staff in the elevator one evening and i mentioned the ice machine to them severel hours later a maid appeared at my door with ice and two mints im not sure how they knew what room i was in that was a little unnerving i would stay here again for business but would not come here on vacation</td>\n",
              "      <td>i stayed at the crown plaza april   april   the staff was friendly and attentive the elevators are tiny about  by  the food in the restaurant was delicious but priced a little on the high side of course this is washington dc there is no pool and little for children to do my room on the fifth floor had two comfortable beds and plenty of space for one person the tv is a little small by todays standards with a limited number of channels there was a small bit of mold in the bathtub area that could have been removed with a little bleach it appeared the carpets were not vacummed every day i reported a light bulb was burned out it was never replaced ice machines are on the odd numbered floors but the one on my floor did not work i encountered some staff in the elevator one evening and i mentioned the ice machine to them severel hours later a maid appeared at my door with ice and two mints im not sure how they knew what room i was in that was a little unnerving i would stay here again for business but would not come here on vacation</td>\n",
              "    </tr>\n",
              "    <tr>\n",
              "      <th>2</th>\n",
              "      <td>I booked this hotel through Hotwire at the lowest price I could find. When we got there the front desk manager gave us a \"\"\"\"\"\"\"\"\"\"\"\"\"\"\"\"\"\"\"\"\"\"\"\"\"\"\"\"\"\"\"\"smoking\"\"\"\"\"\"\"\"\"\"\"\"\"\"\"\"\"\"\"\"\"\"\"\"\"\"\"\"\"\"\"\" room. I argued that I have a little baby and I would not have booked the room had I known it was smoking. The manager would not hear anything further and told me that Hotwire books the cheapest rooms that are available. So, from the get go I was very unhappy.\\nAfter a great deal of persuasion and discussion, I got a nonsmoking room. Thereafter the room had the most minimal amenities. Besides the great location (near Dupont Circle), there was not much to say about this overpriced hotel. The room was small and in OK condition. The bathroom was small with a tub. The bathroom amenities were also minimal. We did not have a fridge or a microwave and had to again rent a fridge from the staff (to keep baby things).\\nThe parking costs $-- per day so it is best not to drive here. Also the breakfast is not included. The lobby is very small and feels old. The only thing available is coffee in the lobby which is decent.\\nAll in all, poor service, minimal amenities, small rooms, small bathrooms, no view, but great location. Some distance from the metro (either McPherson station or Dupont station). Try to look for better if available.</td>\n",
              "      <td>not happy</td>\n",
              "      <td>i booked this hotel through hotwire at the lowest price i could find when we got there the front desk manager gave us a smoking room i argued that i have a little baby and i would not have booked the room had i known it was smoking the manager would not hear anything further and told me that hotwire books the cheapest rooms that are available so from the get go i was very unhappy\\nafter a great deal of persuasion and discussion i got a nonsmoking room thereafter the room had the most minimal amenities besides the great location near dupont circle there was not much to say about this overpriced hotel the room was small and in ok condition the bathroom was small with a tub the bathroom amenities were also minimal we did not have a fridge or a microwave and had to again rent a fridge from the staff to keep baby things\\nthe parking costs  per day so it is best not to drive here also the breakfast is not included the lobby is very small and feels old the only thing available is coffee in the lobby which is decent\\nall in all poor service minimal amenities small rooms small bathrooms no view but great location some distance from the metro either mcpherson station or dupont station try to look for better if available</td>\n",
              "      <td>i booked this hotel through hotwire at the lowest price i could find when we got there the front desk manager gave us a smoking room i argued that i have a little baby and i would not have booked the room had i known it was smoking the manager would not hear anything further and told me that hotwire books the cheapest rooms that are available so from the get go i was very unhappyafter a great deal of persuasion and discussion i got a nonsmoking room thereafter the room had the most minimal amenities besides the great location near dupont circle there was not much to say about this overpriced hotel the room was small and in ok condition the bathroom was small with a tub the bathroom amenities were also minimal we did not have a fridge or a microwave and had to again rent a fridge from the staff to keep baby thingsthe parking costs  per day so it is best not to drive here also the breakfast is not included the lobby is very small and feels old the only thing available is coffee in the lobby which is decentall in all poor service minimal amenities small rooms small bathrooms no view but great location some distance from the metro either mcpherson station or dupont station try to look for better if available</td>\n",
              "    </tr>\n",
              "    <tr>\n",
              "      <th>3</th>\n",
              "      <td>Stayed here with husband and sons on the way to an Alaska Cruise. We all loved the hotel, great experience. Ask for a room on the North tower, facing north west for the best views. We had a high floor, with a stunning view of the needle, the city, and even the cruise ships! We ordered room service for dinner so we could enjoy the perfect views. Room service dinners were delicious, too! You are in a perfect spot to walk everywhere, so enjoy the city. Almost forgot- Heavenly beds were heavenly, too!</td>\n",
              "      <td>happy</td>\n",
              "      <td>stayed here with husband and sons on the way to an alaska cruise we all loved the hotel great experience ask for a room on the north tower facing north west for the best views we had a high floor with a stunning view of the needle the city and even the cruise ships we ordered room service for dinner so we could enjoy the perfect views room service dinners were delicious too you are in a perfect spot to walk everywhere so enjoy the city almost forgot heavenly beds were heavenly too</td>\n",
              "      <td>stayed here with husband and sons on the way to an alaska cruise we all loved the hotel great experience ask for a room on the north tower facing north west for the best views we had a high floor with a stunning view of the needle the city and even the cruise ships we ordered room service for dinner so we could enjoy the perfect views room service dinners were delicious too you are in a perfect spot to walk everywhere so enjoy the city almost forgot heavenly beds were heavenly too</td>\n",
              "    </tr>\n",
              "    <tr>\n",
              "      <th>4</th>\n",
              "      <td>My girlfriends and I stayed here to celebrate our --th birthdays. We had planned this weekend getaway back in February, so we were all looking forward to it. There was - of us so we rented - ajoining rooms at the rate of $----night-room. We stayed - nights so with taxes and parking charges we spent in total over $----. All of us expected a certain level of service since we were staying at the Ritz, however this hotel certainly didn't meet what we would consider Ritz standards.\\nThe rooms were fine. They were clean with well appointed bathrooms, but nothing to get excited about. The service however was awful. The first night we were there, I made -- calls to the bell man, before someone in hotel communications picked up the phone. Then on Saturday night before we left for dinner at -:--, we requested to have extra hotels delivered to our room and our trash removed. When we returned at --:--, neither request was fullfilled. I made another call to housekeeping and then finally things were taken care of. In my opinion, for the rates we were paying, we should have had nightly turn down service.\\nI did speak with a manager when we checked out and he said he would make it worth our while to return, however all we received was a letter of apology.\\nNeedless to say, we have no plans to return to this hotel. My husband and I stayed at the Four Seasons Boston in February of ---- and had a wonderful stay. The service there was impeccable as is service at all the Four Seaons that I have stayed at. If you are willing to pay Ritz Carlton prices, then I would recommend staying at the Four Seasons instead!</td>\n",
              "      <td>not happy</td>\n",
              "      <td>my girlfriends and i stayed here to celebrate our th birthdays we had planned this weekend getaway back in february so we were all looking forward to it there was  of us so we rented  ajoining rooms at the rate of nightroom we stayed  nights so with taxes and parking charges we spent in total over  all of us expected a certain level of service since we were staying at the ritz however this hotel certainly didnt meet what we would consider ritz standards\\nthe rooms were fine they were clean with well appointed bathrooms but nothing to get excited about the service however was awful the first night we were there i made  calls to the bell man before someone in hotel communications picked up the phone then on saturday night before we left for dinner at  we requested to have extra hotels delivered to our room and our trash removed when we returned at  neither request was fullfilled i made another call to housekeeping and then finally things were taken care of in my opinion for the rates we were paying we should have had nightly turn down service\\ni did speak with a manager when we checked out and he said he would make it worth our while to return however all we received was a letter of apology\\nneedless to say we have no plans to return to this hotel my husband and i stayed at the four seasons boston in february of  and had a wonderful stay the service there was impeccable as is service at all the four seaons that i have stayed at if you are willing to pay ritz carlton prices then i would recommend staying at the four seasons instead</td>\n",
              "      <td>my girlfriends and i stayed here to celebrate our th birthdays we had planned this weekend getaway back in february so we were all looking forward to it there was  of us so we rented  ajoining rooms at the rate of nightroom we stayed  nights so with taxes and parking charges we spent in total over  all of us expected a certain level of service since we were staying at the ritz however this hotel certainly didnt meet what we would consider ritz standardsthe rooms were fine they were clean with well appointed bathrooms but nothing to get excited about the service however was awful the first night we were there i made  calls to the bell man before someone in hotel communications picked up the phone then on saturday night before we left for dinner at  we requested to have extra hotels delivered to our room and our trash removed when we returned at  neither request was fullfilled i made another call to housekeeping and then finally things were taken care of in my opinion for the rates we were paying we should have had nightly turn down servicei did speak with a manager when we checked out and he said he would make it worth our while to return however all we received was a letter of apologyneedless to say we have no plans to return to this hotel my husband and i stayed at the four seasons boston in february of  and had a wonderful stay the service there was impeccable as is service at all the four seaons that i have stayed at if you are willing to pay ritz carlton prices then i would recommend staying at the four seasons instead</td>\n",
              "    </tr>\n",
              "    <tr>\n",
              "      <th>5</th>\n",
              "      <td>We had - rooms. One was very nice and clearly had been updated more recently than the other. The other was clean and the bed was comfy but it needed some updating (carpet was old and wrinkled for example). Great location for visiting Inner Harbor, getting to Fells Point, Orioles games etc. SuperShuttle from BWI worked great both ways. TV remotes in both rooms were terrible but we didn't watch much TV so not a big deal. Wireless was sketchy on --th and --th floors but again, didn't need it much - we were on vacation so it didn't really matter. Breakfast was good each morning. Would stay again if in town.</td>\n",
              "      <td>happy</td>\n",
              "      <td>we had  rooms one was very nice and clearly had been updated more recently than the other the other was clean and the bed was comfy but it needed some updating carpet was old and wrinkled for example great location for visiting inner harbor getting to fells point orioles games etc supershuttle from bwi worked great both ways tv remotes in both rooms were terrible but we didnt watch much tv so not a big deal wireless was sketchy on th and th floors but again didnt need it much  we were on vacation so it didnt really matter breakfast was good each morning would stay again if in town</td>\n",
              "      <td>we had  rooms one was very nice and clearly had been updated more recently than the other the other was clean and the bed was comfy but it needed some updating carpet was old and wrinkled for example great location for visiting inner harbor getting to fells point orioles games etc supershuttle from bwi worked great both ways tv remotes in both rooms were terrible but we didnt watch much tv so not a big deal wireless was sketchy on th and th floors but again didnt need it much  we were on vacation so it didnt really matter breakfast was good each morning would stay again if in town</td>\n",
              "    </tr>\n",
              "    <tr>\n",
              "      <th>6</th>\n",
              "      <td>My husband and I have stayed in this hotel a few times. Though not the fanciest hotel, we love the fact that we can walk the - or so miles to Fenway. It is clean and the staff is very accomodating. My only complaint is that the fan in the bathroom was noisy and went on automatically when you turned the light on and we tried to keep the light off as much as possible. We've stayed in pricier hotels which charged for internet and breakfast and these are both included. Will stay there again.</td>\n",
              "      <td>not happy</td>\n",
              "      <td>my husband and i have stayed in this hotel a few times though not the fanciest hotel we love the fact that we can walk the  or so miles to fenway it is clean and the staff is very accomodating my only complaint is that the fan in the bathroom was noisy and went on automatically when you turned the light on and we tried to keep the light off as much as possible weve stayed in pricier hotels which charged for internet and breakfast and these are both included will stay there again</td>\n",
              "      <td>my husband and i have stayed in this hotel a few times though not the fanciest hotel we love the fact that we can walk the  or so miles to fenway it is clean and the staff is very accomodating my only complaint is that the fan in the bathroom was noisy and went on automatically when you turned the light on and we tried to keep the light off as much as possible weve stayed in pricier hotels which charged for internet and breakfast and these are both included will stay there again</td>\n",
              "    </tr>\n",
              "    <tr>\n",
              "      <th>7</th>\n",
              "      <td>My wife &amp; I stayed in this glorious city a while back. SF is expensive, but we found this little hotel in a super location for a very reasonable price. By no means is it a --star hotel, but the room was clean, nice &amp; well-appointed with quaint charm, despite being a bit small. Regardless of that, the staff was very helpful. I particularly enjoyed the wine-tasting evenings &amp; the helpful, polite front desk.\\nOverall, I'd recommend this place for singles or couples, but for children present, you probably need a bit bigger room. For the location &amp; proximity to everything (including a marvelous little Mexican restaurant around the corner), you can't beat this place for the price. SF is a magical city with plenty of things to do, so I'd recommend just crashing here &amp; seeing the wonderful surroundings more than hanging out in a room all day.\\nWould recommend again for a getaway for -, but not for families because of the room size.</td>\n",
              "      <td>happy</td>\n",
              "      <td>my wife  i stayed in this glorious city a while back sf is expensive but we found this little hotel in a super location for a very reasonable price by no means is it a star hotel but the room was clean nice  wellappointed with quaint charm despite being a bit small regardless of that the staff was very helpful i particularly enjoyed the winetasting evenings  the helpful polite front desk\\noverall id recommend this place for singles or couples but for children present you probably need a bit bigger room for the location  proximity to everything including a marvelous little mexican restaurant around the corner you cant beat this place for the price sf is a magical city with plenty of things to do so id recommend just crashing here  seeing the wonderful surroundings more than hanging out in a room all day\\nwould recommend again for a getaway for  but not for families because of the room size</td>\n",
              "      <td>my wife  i stayed in this glorious city a while back sf is expensive but we found this little hotel in a super location for a very reasonable price by no means is it a star hotel but the room was clean nice  wellappointed with quaint charm despite being a bit small regardless of that the staff was very helpful i particularly enjoyed the winetasting evenings  the helpful polite front deskoverall id recommend this place for singles or couples but for children present you probably need a bit bigger room for the location  proximity to everything including a marvelous little mexican restaurant around the corner you cant beat this place for the price sf is a magical city with plenty of things to do so id recommend just crashing here  seeing the wonderful surroundings more than hanging out in a room all daywould recommend again for a getaway for  but not for families because of the room size</td>\n",
              "    </tr>\n",
              "    <tr>\n",
              "      <th>8</th>\n",
              "      <td>My boyfriend and I stayed at the Fairmont on a recent trip to San Francisco. I could not recommend this hotel more. \\nI called the hotel a few weeks before to order a cake to be delivered to our room on our first night to celebrate my boyfriend's birthday. I was immediately connected directly to the pastry chef who helped me to design the most delicious cake I have ever eaten in my entire life! \\nThe rooms are large and luxurious with a wonderful old-world feel. \\n Most importantly don't miss a dinner at the Tonga Room! What a fun restaurant. Definitely order a Scorpion Bowl, but only if you’re staying in the hotel -- they're strong!!</td>\n",
              "      <td>happy</td>\n",
              "      <td>my boyfriend and i stayed at the fairmont on a recent trip to san francisco i could not recommend this hotel more \\ni called the hotel a few weeks before to order a cake to be delivered to our room on our first night to celebrate my boyfriends birthday i was immediately connected directly to the pastry chef who helped me to design the most delicious cake i have ever eaten in my entire life \\nthe rooms are large and luxurious with a wonderful oldworld feel \\n most importantly dont miss a dinner at the tonga room what a fun restaurant definitely order a scorpion bowl but only if you’re staying in the hotel  theyre strong</td>\n",
              "      <td>my boyfriend and i stayed at the fairmont on a recent trip to san francisco i could not recommend this hotel more i called the hotel a few weeks before to order a cake to be delivered to our room on our first night to celebrate my boyfriends birthday i was immediately connected directly to the pastry chef who helped me to design the most delicious cake i have ever eaten in my entire life the rooms are large and luxurious with a wonderful oldworld feel  most importantly dont miss a dinner at the tonga room what a fun restaurant definitely order a scorpion bowl but only if youre staying in the hotel  theyre strong</td>\n",
              "    </tr>\n",
              "    <tr>\n",
              "      <th>9</th>\n",
              "      <td>Wonderful staff, great location, but it was definately the price was high for a standard hotel. The free breakfast was great, actually pretty good quailty for a free buffet. This hotel is in the heart of it all, walking distance to everything. - things, please Hyatt...the coffee was bad and the white ginger line of shampoo-conditioner-soap smells horrible!</td>\n",
              "      <td>not happy</td>\n",
              "      <td>wonderful staff great location but it was definately the price was high for a standard hotel the free breakfast was great actually pretty good quailty for a free buffet this hotel is in the heart of it all walking distance to everything  things please hyattthe coffee was bad and the white ginger line of shampooconditionersoap smells horrible</td>\n",
              "      <td>wonderful staff great location but it was definately the price was high for a standard hotel the free breakfast was great actually pretty good quailty for a free buffet this hotel is in the heart of it all walking distance to everything  things please hyattthe coffee was bad and the white ginger line of shampooconditionersoap smells horrible</td>\n",
              "    </tr>\n",
              "  </tbody>\n",
              "</table>\n",
              "</div>"
            ],
            "text/plain": [
              "                                                                                                                                                                                                                                                                                                                                                                                                                                                                                                                                                                                                                                                                                                                                                                                                                                                                                                                                                                                                                                                                                                                                                                                                                                                                                                                                                                                                                                                                                                                                                                                                                                                                        Description  ...                                                                                                                                                                                                                                                                                                                                                                                                                                                                                                                                                                                                                                                                                                                                                                                                                                                                                                                                                                                                                                                                                                                                                                                                                                                                                                                                                                                                                                                                                                                                                                                       cleaned_description_new\n",
              "0                                                                                                                                                                                                                                                                                                                                                                                                                                                                                                                                                                                                                                                                                                                                                                                                                                                                                                                                                                                                                                                                                                                                                                                                                                                                                                                                                                                                                          The room was kind of clean but had a VERY strong smell of dogs. Generally below average but ok for a overnight stay if you're not too fussy. Would consider staying again if the price was right. Breakfast was free and just about better than nothing.  ...                                                                                                                                                                                                                                                                                                                                                                                                                                                                                                                                                                                                                                                                                                                                                                                                                                                                                                                                                                                                                                                                                                                                                                                                                                                                                                                                                           the room was kind of clean but had a very strong smell of dogs generally below average but ok for a overnight stay if youre not too fussy would consider staying again if the price was right breakfast was free and just about better than nothing\n",
              "1                                                                                                                                                                                                                                                                                                                                                                                                                                                                                                                                                             I stayed at the Crown Plaza April -- - April --, ----. The staff was friendly and attentive. The elevators are tiny (about -' by -'). The food in the restaurant was delicious but priced a little on the high side. Of course this is Washington DC. There is no pool and little for children to do. My room on the fifth floor had two comfortable beds and plenty of space for one person. The TV is a little small by todays standards with a limited number of channels. There was a small bit of mold in the bathtub area that could have been removed with a little bleach. It appeared the carpets were not vacummed every day. I reported a light bulb was burned out. It was never replaced. Ice machines are on the odd numbered floors, but the one on my floor did not work. I encountered some staff in the elevator one evening and I mentioned the ice machine to them. Severel hours later a maid appeared at my door with ice and two mints. I'm not sure how they knew what room I was in. That was a little unnerving! I would stay here again for business, but would not come here on vacation.  ...                                                                                                                                                                                                                                                                                                                                                                                                                                                                                                                              i stayed at the crown plaza april   april   the staff was friendly and attentive the elevators are tiny about  by  the food in the restaurant was delicious but priced a little on the high side of course this is washington dc there is no pool and little for children to do my room on the fifth floor had two comfortable beds and plenty of space for one person the tv is a little small by todays standards with a limited number of channels there was a small bit of mold in the bathtub area that could have been removed with a little bleach it appeared the carpets were not vacummed every day i reported a light bulb was burned out it was never replaced ice machines are on the odd numbered floors but the one on my floor did not work i encountered some staff in the elevator one evening and i mentioned the ice machine to them severel hours later a maid appeared at my door with ice and two mints im not sure how they knew what room i was in that was a little unnerving i would stay here again for business but would not come here on vacation\n",
              "2                                                                                                                                                                                                                                                                                                I booked this hotel through Hotwire at the lowest price I could find. When we got there the front desk manager gave us a \"\"\"\"\"\"\"\"\"\"\"\"\"\"\"\"\"\"\"\"\"\"\"\"\"\"\"\"\"\"\"\"smoking\"\"\"\"\"\"\"\"\"\"\"\"\"\"\"\"\"\"\"\"\"\"\"\"\"\"\"\"\"\"\"\" room. I argued that I have a little baby and I would not have booked the room had I known it was smoking. The manager would not hear anything further and told me that Hotwire books the cheapest rooms that are available. So, from the get go I was very unhappy.\\nAfter a great deal of persuasion and discussion, I got a nonsmoking room. Thereafter the room had the most minimal amenities. Besides the great location (near Dupont Circle), there was not much to say about this overpriced hotel. The room was small and in OK condition. The bathroom was small with a tub. The bathroom amenities were also minimal. We did not have a fridge or a microwave and had to again rent a fridge from the staff (to keep baby things).\\nThe parking costs $-- per day so it is best not to drive here. Also the breakfast is not included. The lobby is very small and feels old. The only thing available is coffee in the lobby which is decent.\\nAll in all, poor service, minimal amenities, small rooms, small bathrooms, no view, but great location. Some distance from the metro (either McPherson station or Dupont station). Try to look for better if available.  ...                                                                                                                                                                                                                                                                                                                                       i booked this hotel through hotwire at the lowest price i could find when we got there the front desk manager gave us a smoking room i argued that i have a little baby and i would not have booked the room had i known it was smoking the manager would not hear anything further and told me that hotwire books the cheapest rooms that are available so from the get go i was very unhappyafter a great deal of persuasion and discussion i got a nonsmoking room thereafter the room had the most minimal amenities besides the great location near dupont circle there was not much to say about this overpriced hotel the room was small and in ok condition the bathroom was small with a tub the bathroom amenities were also minimal we did not have a fridge or a microwave and had to again rent a fridge from the staff to keep baby thingsthe parking costs  per day so it is best not to drive here also the breakfast is not included the lobby is very small and feels old the only thing available is coffee in the lobby which is decentall in all poor service minimal amenities small rooms small bathrooms no view but great location some distance from the metro either mcpherson station or dupont station try to look for better if available\n",
              "3                                                                                                                                                                                                                                                                                                                                                                                                                                                                                                                                                                                                                                                                                                                                                                                                                                                                                                                                                                                                                                                                                                                                                            Stayed here with husband and sons on the way to an Alaska Cruise. We all loved the hotel, great experience. Ask for a room on the North tower, facing north west for the best views. We had a high floor, with a stunning view of the needle, the city, and even the cruise ships! We ordered room service for dinner so we could enjoy the perfect views. Room service dinners were delicious, too! You are in a perfect spot to walk everywhere, so enjoy the city. Almost forgot- Heavenly beds were heavenly, too!  ...                                                                                                                                                                                                                                                                                                                                                                                                                                                                                                                                                                                                                                                                                                                                                                                                                                                                                                                                                                                                                                                                                                         stayed here with husband and sons on the way to an alaska cruise we all loved the hotel great experience ask for a room on the north tower facing north west for the best views we had a high floor with a stunning view of the needle the city and even the cruise ships we ordered room service for dinner so we could enjoy the perfect views room service dinners were delicious too you are in a perfect spot to walk everywhere so enjoy the city almost forgot heavenly beds were heavenly too\n",
              "4  My girlfriends and I stayed here to celebrate our --th birthdays. We had planned this weekend getaway back in February, so we were all looking forward to it. There was - of us so we rented - ajoining rooms at the rate of $----night-room. We stayed - nights so with taxes and parking charges we spent in total over $----. All of us expected a certain level of service since we were staying at the Ritz, however this hotel certainly didn't meet what we would consider Ritz standards.\\nThe rooms were fine. They were clean with well appointed bathrooms, but nothing to get excited about. The service however was awful. The first night we were there, I made -- calls to the bell man, before someone in hotel communications picked up the phone. Then on Saturday night before we left for dinner at -:--, we requested to have extra hotels delivered to our room and our trash removed. When we returned at --:--, neither request was fullfilled. I made another call to housekeeping and then finally things were taken care of. In my opinion, for the rates we were paying, we should have had nightly turn down service.\\nI did speak with a manager when we checked out and he said he would make it worth our while to return, however all we received was a letter of apology.\\nNeedless to say, we have no plans to return to this hotel. My husband and I stayed at the Four Seasons Boston in February of ---- and had a wonderful stay. The service there was impeccable as is service at all the Four Seaons that I have stayed at. If you are willing to pay Ritz Carlton prices, then I would recommend staying at the Four Seasons instead!  ...  my girlfriends and i stayed here to celebrate our th birthdays we had planned this weekend getaway back in february so we were all looking forward to it there was  of us so we rented  ajoining rooms at the rate of nightroom we stayed  nights so with taxes and parking charges we spent in total over  all of us expected a certain level of service since we were staying at the ritz however this hotel certainly didnt meet what we would consider ritz standardsthe rooms were fine they were clean with well appointed bathrooms but nothing to get excited about the service however was awful the first night we were there i made  calls to the bell man before someone in hotel communications picked up the phone then on saturday night before we left for dinner at  we requested to have extra hotels delivered to our room and our trash removed when we returned at  neither request was fullfilled i made another call to housekeeping and then finally things were taken care of in my opinion for the rates we were paying we should have had nightly turn down servicei did speak with a manager when we checked out and he said he would make it worth our while to return however all we received was a letter of apologyneedless to say we have no plans to return to this hotel my husband and i stayed at the four seasons boston in february of  and had a wonderful stay the service there was impeccable as is service at all the four seaons that i have stayed at if you are willing to pay ritz carlton prices then i would recommend staying at the four seasons instead\n",
              "5                                                                                                                                                                                                                                                                                                                                                                                                                                                                                                                                                                                                                                                                                                                                                                                                                                                                                                                                                                                                                                                We had - rooms. One was very nice and clearly had been updated more recently than the other. The other was clean and the bed was comfy but it needed some updating (carpet was old and wrinkled for example). Great location for visiting Inner Harbor, getting to Fells Point, Orioles games etc. SuperShuttle from BWI worked great both ways. TV remotes in both rooms were terrible but we didn't watch much TV so not a big deal. Wireless was sketchy on --th and --th floors but again, didn't need it much - we were on vacation so it didn't really matter. Breakfast was good each morning. Would stay again if in town.  ...                                                                                                                                                                                                                                                                                                                                                                                                                                                                                                                                                                                                                                                                                                                                                                                                                                                                                                                                                                                                   we had  rooms one was very nice and clearly had been updated more recently than the other the other was clean and the bed was comfy but it needed some updating carpet was old and wrinkled for example great location for visiting inner harbor getting to fells point orioles games etc supershuttle from bwi worked great both ways tv remotes in both rooms were terrible but we didnt watch much tv so not a big deal wireless was sketchy on th and th floors but again didnt need it much  we were on vacation so it didnt really matter breakfast was good each morning would stay again if in town\n",
              "6                                                                                                                                                                                                                                                                                                                                                                                                                                                                                                                                                                                                                                                                                                                                                                                                                                                                                                                                                                                                                                                                                                                                                                      My husband and I have stayed in this hotel a few times. Though not the fanciest hotel, we love the fact that we can walk the - or so miles to Fenway. It is clean and the staff is very accomodating. My only complaint is that the fan in the bathroom was noisy and went on automatically when you turned the light on and we tried to keep the light off as much as possible. We've stayed in pricier hotels which charged for internet and breakfast and these are both included. Will stay there again.  ...                                                                                                                                                                                                                                                                                                                                                                                                                                                                                                                                                                                                                                                                                                                                                                                                                                                                                                                                                                                                                                                                                                           my husband and i have stayed in this hotel a few times though not the fanciest hotel we love the fact that we can walk the  or so miles to fenway it is clean and the staff is very accomodating my only complaint is that the fan in the bathroom was noisy and went on automatically when you turned the light on and we tried to keep the light off as much as possible weve stayed in pricier hotels which charged for internet and breakfast and these are both included will stay there again\n",
              "7                                                                                                                                                                                                                                                                                                                                                                                                                                                                                                                                                                                                                                                                                                         My wife & I stayed in this glorious city a while back. SF is expensive, but we found this little hotel in a super location for a very reasonable price. By no means is it a --star hotel, but the room was clean, nice & well-appointed with quaint charm, despite being a bit small. Regardless of that, the staff was very helpful. I particularly enjoyed the wine-tasting evenings & the helpful, polite front desk.\\nOverall, I'd recommend this place for singles or couples, but for children present, you probably need a bit bigger room. For the location & proximity to everything (including a marvelous little Mexican restaurant around the corner), you can't beat this place for the price. SF is a magical city with plenty of things to do, so I'd recommend just crashing here & seeing the wonderful surroundings more than hanging out in a room all day.\\nWould recommend again for a getaway for -, but not for families because of the room size.  ...                                                                                                                                                                                                                                                                                                                                                                                                                                                                                                                                                                                                                                                                             my wife  i stayed in this glorious city a while back sf is expensive but we found this little hotel in a super location for a very reasonable price by no means is it a star hotel but the room was clean nice  wellappointed with quaint charm despite being a bit small regardless of that the staff was very helpful i particularly enjoyed the winetasting evenings  the helpful polite front deskoverall id recommend this place for singles or couples but for children present you probably need a bit bigger room for the location  proximity to everything including a marvelous little mexican restaurant around the corner you cant beat this place for the price sf is a magical city with plenty of things to do so id recommend just crashing here  seeing the wonderful surroundings more than hanging out in a room all daywould recommend again for a getaway for  but not for families because of the room size\n",
              "8                                                                                                                                                                                                                                                                                                                                                                                                                                                                                                                                                                                                                                                                                                                                                                                                                                                                                                                                                                                                                My boyfriend and I stayed at the Fairmont on a recent trip to San Francisco. I could not recommend this hotel more. \\nI called the hotel a few weeks before to order a cake to be delivered to our room on our first night to celebrate my boyfriend's birthday. I was immediately connected directly to the pastry chef who helped me to design the most delicious cake I have ever eaten in my entire life! \\nThe rooms are large and luxurious with a wonderful old-world feel. \\n Most importantly don't miss a dinner at the Tonga Room! What a fun restaurant. Definitely order a Scorpion Bowl, but only if you’re staying in the hotel -- they're strong!!  ...                                                                                                                                                                                                                                                                                                                                                                                                                                                                                                                                                                                                                                                                                                                                                                                                                                                                                                                                                                   my boyfriend and i stayed at the fairmont on a recent trip to san francisco i could not recommend this hotel more i called the hotel a few weeks before to order a cake to be delivered to our room on our first night to celebrate my boyfriends birthday i was immediately connected directly to the pastry chef who helped me to design the most delicious cake i have ever eaten in my entire life the rooms are large and luxurious with a wonderful oldworld feel  most importantly dont miss a dinner at the tonga room what a fun restaurant definitely order a scorpion bowl but only if youre staying in the hotel  theyre strong\n",
              "9                                                                                                                                                                                                                                                                                                                                                                                                                                                                                                                                                                                                                                                                                                                                                                                                                                                                                                                                                                                                                                                                                                                                                                                                                                                                                                            Wonderful staff, great location, but it was definately the price was high for a standard hotel. The free breakfast was great, actually pretty good quailty for a free buffet. This hotel is in the heart of it all, walking distance to everything. - things, please Hyatt...the coffee was bad and the white ginger line of shampoo-conditioner-soap smells horrible!  ...                                                                                                                                                                                                                                                                                                                                                                                                                                                                                                                                                                                                                                                                                                                                                                                                                                                                                                                                                                                                                                                                                                                                                                                                                                                       wonderful staff great location but it was definately the price was high for a standard hotel the free breakfast was great actually pretty good quailty for a free buffet this hotel is in the heart of it all walking distance to everything  things please hyattthe coffee was bad and the white ginger line of shampooconditionersoap smells horrible\n",
              "\n",
              "[10 rows x 4 columns]"
            ]
          },
          "metadata": {
            "tags": []
          },
          "execution_count": 63
        }
      ]
    },
    {
      "cell_type": "markdown",
      "metadata": {
        "id": "1gZWnkWUS5KJ"
      },
      "source": [
        "## Model training "
      ]
    },
    {
      "cell_type": "code",
      "metadata": {
        "colab": {
          "base_uri": "https://localhost:8080/"
        },
        "id": "ANfIVz8XS5KJ",
        "outputId": "e3646711-0d37-44bd-a984-cba5465c143b"
      },
      "source": [
        "from sklearn.model_selection import train_test_split\n",
        "\n",
        "Independent_var = Reviewdata.cleaned_description_new\n",
        "Dependent_var = Reviewdata.Is_Response\n",
        "\n",
        "IV_train, IV_test, DV_train, DV_test = train_test_split(Independent_var, Dependent_var, test_size = 0.1, random_state = 225)\n",
        "\n",
        "print('IV_train :', len(IV_train))\n",
        "print('IV_test  :', len(IV_test))\n",
        "print('DV_train :', len(DV_train))\n",
        "print('DV_test  :', len(DV_test))\n"
      ],
      "execution_count": null,
      "outputs": [
        {
          "output_type": "stream",
          "text": [
            "IV_train : 35038\n",
            "IV_test  : 3894\n",
            "DV_train : 35038\n",
            "DV_test  : 3894\n"
          ],
          "name": "stdout"
        }
      ]
    },
    {
      "cell_type": "code",
      "metadata": {
        "id": "ew0c_5eUS5KK"
      },
      "source": [
        "\n",
        "from sklearn.feature_extraction.text import TfidfVectorizer\n",
        "from sklearn.linear_model import LogisticRegression\n",
        "\n",
        "tvec = TfidfVectorizer()\n",
        "clf2 = LogisticRegression(solver = \"lbfgs\")\n",
        "\n",
        "\n",
        "from sklearn.pipeline import Pipeline"
      ],
      "execution_count": null,
      "outputs": []
    },
    {
      "cell_type": "code",
      "metadata": {
        "colab": {
          "base_uri": "https://localhost:8080/"
        },
        "id": "Rf5r1DOkS5KK",
        "outputId": "de646c9c-7aa7-48bf-c7cb-fc8ea59fe70f"
      },
      "source": [
        "model = Pipeline([('vectorizer',tvec),('classifier',clf2)])\n",
        "\n",
        "model.fit(IV_train, DV_train)\n",
        "\n",
        "\n",
        "from sklearn.metrics import confusion_matrix\n",
        "\n",
        "predictions = model.predict(IV_test)\n",
        "\n",
        "confusion_matrix(predictions, DV_test)"
      ],
      "execution_count": null,
      "outputs": [
        {
          "output_type": "execute_result",
          "data": {
            "text/plain": [
              "array([[2418,  305],\n",
              "       [ 153, 1018]])"
            ]
          },
          "metadata": {
            "tags": []
          },
          "execution_count": 71
        }
      ]
    },
    {
      "cell_type": "markdown",
      "metadata": {
        "id": "C2l6wUq0S5KL"
      },
      "source": [
        "## Model prediciton "
      ]
    },
    {
      "cell_type": "code",
      "metadata": {
        "colab": {
          "base_uri": "https://localhost:8080/"
        },
        "id": "CndU0hEIS5KL",
        "outputId": "98b01285-cd58-4ecd-f484-d1f508959d88"
      },
      "source": [
        "from sklearn.metrics import accuracy_score, precision_score, recall_score\n",
        "\n",
        "print(\"Accuracy : \", accuracy_score(predictions, DV_test))\n",
        "print(\"Precision : \", precision_score(predictions, DV_test, average = 'weighted'))\n",
        "print(\"Recall : \", recall_score(predictions, DV_test, average = 'weighted'))"
      ],
      "execution_count": null,
      "outputs": [
        {
          "output_type": "stream",
          "text": [
            "Accuracy :  0.8823831535695943\n",
            "Precision :  0.8890590818181386\n",
            "Recall :  0.8823831535695943\n"
          ],
          "name": "stdout"
        }
      ]
    },
    {
      "cell_type": "markdown",
      "metadata": {
        "id": "svhdFGGvS5KM"
      },
      "source": [
        "## Trying on new reviews "
      ]
    },
    {
      "cell_type": "code",
      "metadata": {
        "id": "5MvW9HYaab4j"
      },
      "source": [
        "# Clone the entire repo.\n",
        "!git clone -l -s git://github.com/jakevdp/PythonDataScienceHandbook.git cloned-repo\n",
        "%cd cloned-repo\n",
        "!ls"
      ],
      "execution_count": null,
      "outputs": []
    },
    {
      "cell_type": "code",
      "metadata": {
        "id": "kH_03K19ab4k"
      },
      "source": [
        ""
      ],
      "execution_count": null,
      "outputs": []
    },
    {
      "cell_type": "code",
      "metadata": {
        "colab": {
          "base_uri": "https://localhost:8080/"
        },
        "id": "9sU5aStWS5KM",
        "outputId": "ddb3db94-0e7c-47d7-ed93-ef0c1dafabf6"
      },
      "source": [
        "example = [\"I'm not satisfy\"]\n",
        "result = model.predict(example)\n",
        "\n",
        "print(result)"
      ],
      "execution_count": null,
      "outputs": [
        {
          "output_type": "stream",
          "text": [
            "['not happy']\n"
          ],
          "name": "stdout"
        }
      ]
    },
    {
      "cell_type": "code",
      "metadata": {
        "id": "vmI88iyHS5KN"
      },
      "source": [
        ""
      ],
      "execution_count": null,
      "outputs": []
    }
  ]
}